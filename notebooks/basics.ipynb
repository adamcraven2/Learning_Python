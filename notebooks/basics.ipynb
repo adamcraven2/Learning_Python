{
 "cells": [
  {
   "cell_type": "markdown",
   "metadata": {},
   "source": [
    "### Operations\n",
    "### Order of Operations\n",
    "(P)lease (E)xcuse (M)y (D)ear (A)unt (S)ally - (PEMDAS)\n",
    "- Parenthesis e.g. ()\n",
    "- Exponents e.g. n2\n",
    "- Multiplication\n",
    "- Division\n",
    "- Addition\n",
    "- Subtraction\n"
   ]
  },
  {
   "cell_type": "code",
   "execution_count": 11,
   "metadata": {},
   "outputs": [
    {
     "name": "stdout",
     "output_type": "stream",
     "text": [
      "14\n",
      "94.0\n"
     ]
    }
   ],
   "source": [
    "# Executes calculations in paranthesis first\n",
    "print(2 + 2 + (2 * 5))\n",
    "# Division\n",
    "print(188/2)"
   ]
  },
  {
   "cell_type": "markdown",
   "metadata": {},
   "source": [
    "### If, Else Statements"
   ]
  },
  {
   "cell_type": "code",
   "execution_count": 14,
   "metadata": {},
   "outputs": [
    {
     "name": "stdout",
     "output_type": "stream",
     "text": [
      "Enjoy school\n"
     ]
    }
   ],
   "source": [
    "thomas_age = 5\n",
    "age_at_school = 5\n",
    "\n",
    "if thomas_age < age_at_school:\n",
    "    print(\"Thomas should be in school\")\n",
    "elif thomas_age == age_at_school:\n",
    "    print(\"Enjoy school\")\n",
    "else: \n",
    "    print(\"Thomas is in the correct school\")"
   ]
  },
  {
   "cell_type": "markdown",
   "metadata": {},
   "source": [
    "### Comprehention\n",
    "- Everything to the left allows you to act on the variable\n",
    "- Everything on the right acts as a filter\n",
    "- Can be done with lists, dictionaires, tuples etc."
   ]
  },
  {
   "cell_type": "code",
   "execution_count": 48,
   "metadata": {},
   "outputs": [
    {
     "name": "stdout",
     "output_type": "stream",
     "text": [
      "[('limited', 134), ('llp', 50)]\n"
     ]
    }
   ],
   "source": [
    "# Numbered List\n",
    "nums = [14, 15, 16, 19, 23, 21, 28]\n",
    "\n",
    "# List of strings\n",
    "strings = [\"limited\", \"services\", \"luke\", \"adam\"]\n",
    "\n",
    "list_comprehension = [num * 2 if num > 15 else num for num in nums if num > 15]\n",
    "\n",
    "popular_words = [(\"limited\", 134), (\"services\", 10), (\"llp\", 50)]\n",
    "\n",
    "tuple_comprehension = [(word, count) for word, count in popular_words if count > 10]\n",
    "\n",
    "print(tuple_comprehension)"
   ]
  }
 ],
 "metadata": {
  "kernelspec": {
   "display_name": "venv",
   "language": "python",
   "name": "python3"
  },
  "language_info": {
   "codemirror_mode": {
    "name": "ipython",
    "version": 3
   },
   "file_extension": ".py",
   "mimetype": "text/x-python",
   "name": "python",
   "nbconvert_exporter": "python",
   "pygments_lexer": "ipython3",
   "version": "3.10.11"
  },
  "orig_nbformat": 4
 },
 "nbformat": 4,
 "nbformat_minor": 2
}
