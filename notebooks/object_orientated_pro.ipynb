{
 "cells": [
  {
   "cell_type": "markdown",
   "metadata": {},
   "source": [
    "## Object Orientated Programming\n",
    "- Understand how classes, methods and attributes are structured\n",
    "- Create a scenario where they interact with eachother (e.g. Students and Courses)"
   ]
  },
  {
   "cell_type": "code",
   "execution_count": 1,
   "metadata": {},
   "outputs": [
    {
     "name": "stdout",
     "output_type": "stream",
     "text": [
      "15\n",
      "Adam\n"
     ]
    }
   ],
   "source": [
    "# Create new class object\n",
    "class Dog():\n",
    "    # __init_ is a special Method - Allows us to instaciate object right when it is created\n",
    "    # When we call the Dog class, this will be referred to first\n",
    "    # Self allows to keep seperate instances of classes e.g. two different dogs\n",
    "    def __init__(self, name, age):\n",
    "        # Create an atrribute of the class dog\n",
    "        self.name = name\n",
    "        self.age = age\n",
    "\n",
    "    # A method is a function which goes inside of a class (Dog)\n",
    "    def get_name(self):\n",
    "        return self.name\n",
    "    \n",
    "    def get_age(self):\n",
    "        return self.age\n",
    "\n",
    "# Pass the required attributes\n",
    "d = Dog(\"Adam\", 15)\n",
    "d2 = Dog(\"Tim\", 28)\n",
    "\n",
    "print(d.get_age())\n",
    "print(d.get_name())\n"
   ]
  },
  {
   "cell_type": "code",
   "execution_count": 2,
   "metadata": {},
   "outputs": [
    {
     "name": "stdout",
     "output_type": "stream",
     "text": [
      "53.0\n"
     ]
    }
   ],
   "source": [
    "# Create a new class object\n",
    "class Student:\n",
    "    def __init__(self, name, age, grade):\n",
    "        self.name = name\n",
    "        self.age = age\n",
    "        self.grade = grade # 0-100\n",
    "\n",
    "    def get_grade(self):\n",
    "        return self.grade\n",
    "\n",
    "# Aim is to add Students to a Course\n",
    "class Course:\n",
    "    def __init__(self, name, max_students):\n",
    "        self.name = name\n",
    "        self.max_students = max_students\n",
    "        # Create an empty students list\n",
    "        self.students = []\n",
    "    \n",
    "    # Add students to course, passing student object\n",
    "    def add_student(self, student):\n",
    "        # Only add student if the max students is not exceeded\n",
    "        if len(self.students) < self.max_students:\n",
    "            self.students.append(student)\n",
    "            return True\n",
    "        return False\n",
    "    # Get the average grade of students\n",
    "    def get_average_grade(self):\n",
    "        value = 0\n",
    "        # for every student in the Students list\n",
    "        for student in self.students:\n",
    "            # Get the grades of students\n",
    "            value += student.get_grade()\n",
    "\n",
    "        # Divdes the grades by the length of students \n",
    "        return value / len(self.students)\n",
    "    \n",
    "\n",
    "# Create Students\n",
    "s1 = Student(\"Adam\", 26, 89)\n",
    "s2 = Student(\"Luke\", 26, 17)\n",
    "s3 = Student(\"Gemma\", 26, 48)\n",
    "\n",
    "# Create Course\n",
    "course = Course('Marketing', 2)\n",
    "\n",
    "# Add Students to Course\n",
    "course.add_student(s1)\n",
    "course.add_student(s2)\n",
    "\n",
    "# Print the average grade\n",
    "print(course.get_average_grade())"
   ]
  },
  {
   "cell_type": "markdown",
   "metadata": {},
   "source": [
    "### OOP Inheritance \n",
    "- Classes of a similar nature can inherit the functionality from a \"parent\" class\n",
    "- Parent classes are known as generalisations, we want to code the differences in the child objects"
   ]
  },
  {
   "cell_type": "code",
   "execution_count": 3,
   "metadata": {},
   "outputs": [
    {
     "name": "stdout",
     "output_type": "stream",
     "text": [
      "I am Adam and I am 26 years old\n",
      "I am Gemma and I am 13 years old\n",
      "I am Luke and I am 89 years old\n"
     ]
    }
   ],
   "source": [
    "# Class Pet is called a Generalisation as it's the parent that holds the functionality\n",
    "class Pet:\n",
    "    def __init__(self, name, age):\n",
    "        self.name = name\n",
    "        self.age = age\n",
    "\n",
    "    def show(self):\n",
    "        print(f'I am {self.name} and I am {self.age} years old')\n",
    "\n",
    "# Cat inherits Pet Class\n",
    "class Cat(Pet):\n",
    "    def speak(self):\n",
    "        print(\"Meow\")\n",
    "\n",
    "# Dog inherits Pet Class\n",
    "class Dog(Pet):\n",
    "    def speak(self):\n",
    "        print(\"Bark\")\n",
    "\n",
    "# Create Pet\n",
    "p = Pet(\"Adam\", 26)\n",
    "p.show()\n",
    "# Create Cat\n",
    "c = Cat(\"Gemma\", 13)\n",
    "c.show()\n",
    "# Create Dog\n",
    "d = Dog(\"Luke\", 89)\n",
    "d.show()"
   ]
  }
 ],
 "metadata": {
  "kernelspec": {
   "display_name": "venv",
   "language": "python",
   "name": "python3"
  },
  "language_info": {
   "codemirror_mode": {
    "name": "ipython",
    "version": 3
   },
   "file_extension": ".py",
   "mimetype": "text/x-python",
   "name": "python",
   "nbconvert_exporter": "python",
   "pygments_lexer": "ipython3",
   "version": "3.10.11"
  },
  "orig_nbformat": 4
 },
 "nbformat": 4,
 "nbformat_minor": 2
}
